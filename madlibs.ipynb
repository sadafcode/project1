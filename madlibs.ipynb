{
  "nbformat": 4,
  "nbformat_minor": 0,
  "metadata": {
    "colab": {
      "provenance": [],
      "include_colab_link": true
    },
    "kernelspec": {
      "name": "python3",
      "display_name": "Python 3"
    },
    "language_info": {
      "name": "python"
    }
  },
  "cells": [
    {
      "cell_type": "markdown",
      "metadata": {
        "id": "view-in-github",
        "colab_type": "text"
      },
      "source": [
        "<a href=\"https://colab.research.google.com/github/sadafcode/project1/blob/main/madlibs.ipynb\" target=\"_parent\"><img src=\"https://colab.research.google.com/assets/colab-badge.svg\" alt=\"Open In Colab\"/></a>"
      ]
    },
    {
      "cell_type": "code",
      "source": [
        "adj = input(\"adjective: \")\n",
        "verb1 = input(\"verb: \")\n",
        "verb2 = input(\"verb: \")\n",
        "famous_person = input(\"famous person: \")\n",
        "madlibs =f\"computer programming is so {adj}! it makes me so excited all the time because \\nI love to {verb1}.Stay hydrated {verb2} like you are {famous_person}!\"\n",
        "print (madlibs)"
      ],
      "metadata": {
        "colab": {
          "base_uri": "https://localhost:8080/"
        },
        "id": "qYWuVxrM-XTl",
        "outputId": "31a9e2bb-c492-4291-e39c-a79e37241e4b"
      },
      "execution_count": null,
      "outputs": [
        {
          "output_type": "stream",
          "name": "stdout",
          "text": [
            "adjective: amazing\n",
            "verb: river rafting\n",
            "verb: jumping\n",
            "famous person: Imran khan\n",
            "computer programming is so amazing! it makes me so excited all the time because \n",
            "I love to river rafting.Stay hydrated jumping like you are Imran khan!\n"
          ]
        }
      ]
    },
    {
      "cell_type": "code",
      "source": [
        "name = input(\"enter your name: \")\n",
        "adj = input(\"enter adjective: \")\n",
        "place = input(\"enter place: \")\n",
        "madlib = f\"hey {name}! we are {adj} to announce that you got a golden ticket so come to visit our {place} and got your prize\"\n",
        "print(madlib)"
      ],
      "metadata": {
        "colab": {
          "base_uri": "https://localhost:8080/"
        },
        "id": "kcqBLg_8ikBd",
        "outputId": "129bd4af-ff80-48ee-e46c-4b38e2b32c88"
      },
      "execution_count": null,
      "outputs": [
        {
          "output_type": "stream",
          "name": "stdout",
          "text": [
            "enter your name: sadaf\n",
            "enter adjective: thrilled\n",
            "enter place: shop\n",
            "hey sadaf! we are thrilled to announce that you got a golden ticket so come to visit our shop and got your prize\n"
          ]
        }
      ]
    }
  ]
}